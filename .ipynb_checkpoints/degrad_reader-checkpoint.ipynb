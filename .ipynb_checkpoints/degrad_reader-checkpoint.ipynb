{
 "cells": [
  {
   "cell_type": "code",
   "execution_count": 1,
   "metadata": {},
   "outputs": [],
   "source": [
    "import glob\n",
    "import numpy             as np\n",
    "import pandas            as pd\n",
    "import matplotlib.pyplot as plt\n",
    "\n",
    "from math import sqrt"
   ]
  },
  {
   "cell_type": "code",
   "execution_count": 2,
   "metadata": {},
   "outputs": [],
   "source": [
    "events = []\n",
    "for file in glob.glob('*.degrad'):\n",
    "    with open(file) as f:\n",
    "        content = f.readlines()\n",
    "    content = [x.strip() for x in content] \n",
    "    events.extend(content[1::2])"
   ]
  },
  {
   "cell_type": "code",
   "execution_count": 4,
   "metadata": {},
   "outputs": [],
   "source": [
    "evtnums, x, y, z = (list() for _ in range(4))\n",
    "\n",
    "for i, evt in enumerate(events):\n",
    "    words  = evt.split()\n",
    "    values = np.array(words, dtype=float)\n",
    "    nrows  = 7\n",
    "    ncols  = int(len(values)/7)\n",
    "    values = values.reshape(ncols,nrows)\n",
    "    xl = np.divide(values[:,0], 1e3).tolist()\n",
    "    yl = np.divide(values[:,1], 1e3).tolist()\n",
    "    zl = np.divide(values[:,2], 1e3).tolist()\n",
    "    x.extend(xl)\n",
    "    y.extend(yl)\n",
    "    z.extend(zl)\n",
    "    evtnums.extend([i]*len(xl))"
   ]
  },
  {
   "cell_type": "code",
   "execution_count": 5,
   "metadata": {},
   "outputs": [],
   "source": [
    "df = pd.DataFrame({'event_number': evtnums, 'x': x, 'y': y, 'z': z})"
   ]
  },
  {
   "cell_type": "code",
   "execution_count": 6,
   "metadata": {},
   "outputs": [
    {
     "data": {
      "text/plain": [
       "<matplotlib.axes._subplots.AxesSubplot at 0x7f04efc7da90>"
      ]
     },
     "execution_count": 6,
     "metadata": {},
     "output_type": "execute_result"
    },
    {
     "data": {
      "image/png": "[encoded data removed]",
      "text/plain": [
       "<Figure size 432x288 with 1 Axes>"
      ]
     },
     "metadata": {
      "needs_background": "light"
     },
     "output_type": "display_data"
    }
   ],
   "source": [
    "dist = pd.DataFrame({'xdist': df.groupby('event_number').x.max() - df.groupby('event_number').x.min(), \n",
    "                     'ydist': df.groupby('event_number').y.max() - df.groupby('event_number').y.min(), \n",
    "                     'zdist': df.groupby('event_number').z.max() - df.groupby('event_number').z.min()})\n",
    "def diagonal(row):\n",
    "    return sqrt(row['xdist']**2 + row['ydist']**2 + row['zdist']**2)\n",
    "dist['diag'] = dist.apply(diagonal, axis=1)\n",
    "dist['diag'].plot.hist(range=(0.,100.), bins=100, histtype='step')\n",
    "#fig = ax.get_figure()\n",
    "#fig.savefig('diagonal.pdf')"
   ]
  },
  {
   "cell_type": "code",
   "execution_count": 7,
   "metadata": {},
   "outputs": [],
   "source": [
    "from invisible_cities.evm.event_model import BHit\n",
    "from invisible_cities.reco import paolina_functions as plf"
   ]
  },
  {
   "cell_type": "code",
   "execution_count": 8,
   "metadata": {},
   "outputs": [
    {
     "data": {
      "text/plain": [
       "72.60883023301652"
      ]
     },
     "execution_count": 8,
     "metadata": {},
     "output_type": "execute_result"
    }
   ],
   "source": [
    "df_one = df[df.event_number == 2]\n",
    "hit_list = [BHit(row.x, row.y, row.z, 1.) for indx, row in df_one.iterrows()]\n",
    "voxels = plf.voxelize_hits(hit_list, np.array((1., 1., 1.)))\n",
    "tracks = plf.make_track_graphs(voxels)\n",
    "plf.length(tracks[0])"
   ]
  },
  {
   "cell_type": "code",
   "execution_count": 9,
   "metadata": {},
   "outputs": [
    {
     "data": {
      "text/plain": [
       "1"
      ]
     },
     "execution_count": 9,
     "metadata": {},
     "output_type": "execute_result"
    }
   ],
   "source": [
    "len(tracks)"
   ]
  },
  {
   "cell_type": "code",
   "execution_count": null,
   "metadata": {},
   "outputs": [],
   "source": [
    "trk_lengths = []\n",
    "for i in range(df.event_number.max()+1):\n",
    "    df_one = df[df.event_number == i]\n",
    "    hit_list = [BHit(row.x, row.y, row.z, 1.) for indx, row in df_one.iterrows()]\n",
    "    voxels = plf.voxelize_hits(hit_list, np.array((1., 1., 1.)))\n",
    "    tracks = plf.make_track_graphs(voxels)\n",
    "    trk_lengths.append(plf.length(tracks[0]))"
   ]
  },
  {
   "cell_type": "code",
   "execution_count": null,
   "metadata": {},
   "outputs": [],
   "source": [
    "plt.hist(trk_lengths, range=(0,120.), bins=30)"
   ]
  },
  {
   "cell_type": "code",
   "execution_count": null,
   "metadata": {},
   "outputs": [],
   "source": []
  }
 ],
 "metadata": {
  "kernelspec": {
   "display_name": "Python 3",
   "language": "python",
   "name": "python3"
  },
  "language_info": {
   "codemirror_mode": {
    "name": "ipython",
    "version": 3
   },
   "file_extension": ".py",
   "mimetype": "text/x-python",
   "name": "python",
   "nbconvert_exporter": "python",
   "pygments_lexer": "ipython3",
   "version": "3.7.6"
  }
 },
 "nbformat": 4,
 "nbformat_minor": 4
}
